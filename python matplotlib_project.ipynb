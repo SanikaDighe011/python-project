{
 "cells": [
  {
   "cell_type": "code",
   "execution_count": 3,
   "id": "14094730-f316-4f13-b767-4cd18e24f06e",
   "metadata": {},
   "outputs": [
    {
     "name": "stdout",
     "output_type": "stream",
     "text": [
      "1: Line Plot\n",
      "2: Bar Chart\n",
      "3: Pie Chart\n",
      "4: Scatter Plot\n"
     ]
    },
    {
     "name": "stdin",
     "output_type": "stream",
     "text": [
      "Choose a plot type (1-4):  2\n"
     ]
    },
    {
     "data": {
      "image/png": "[encoded data removed]",
      "text/plain": [
       "<Figure size 800x500 with 1 Axes>"
      ]
     },
     "metadata": {},
     "output_type": "display_data"
    }
   ],
   "source": [
    "import matplotlib.pyplot as plt\n",
    "import pandas as pd\n",
    "\n",
    "# Create and save data\n",
    "data = {\n",
    "    \"category\": ['A', 'B', 'C', 'D', 'E'],\n",
    "    \"value\": [30, 50, 20, 70, 40]\n",
    "}\n",
    "df = pd.DataFrame(data)\n",
    "df.to_csv('data.csv', index=False)\n",
    "\n",
    "# VisualizationManager Class\n",
    "class VisualizationManager:\n",
    "    def __init__(self, data_file):\n",
    "        self.data = pd.read_csv(data_file)\n",
    "        self.categories = self.data['category']\n",
    "        self.values = self.data['value']\n",
    "\n",
    "    # Line Plot\n",
    "    def line_plot(self):\n",
    "        plt.figure(figsize=(8, 5))\n",
    "        plt.plot(self.categories, self.values, marker='o', color='blue', linestyle='--')\n",
    "        plt.title(\"Line Plot\")\n",
    "        plt.xlabel(\"Categories\")\n",
    "        plt.ylabel(\"Values\")\n",
    "        plt.grid(True)\n",
    "        plt.show()\n",
    "\n",
    "    # Bar Chart\n",
    "    def bar_chart(self):\n",
    "        plt.figure(figsize=(8, 5))\n",
    "        plt.bar(self.categories, self.values, color='orange', alpha=0.7)\n",
    "        plt.title(\"Bar Chart\")\n",
    "        plt.xlabel(\"Categories\")\n",
    "        plt.ylabel(\"Values\")\n",
    "        plt.show()\n",
    "\n",
    "    # Pie Chart\n",
    "    def pie_chart(self):\n",
    "        plt.figure(figsize=(8, 5))\n",
    "        plt.pie(self.values, labels=self.categories, autopct='%1.1f%%', startangle=90)\n",
    "        plt.title(\"Pie Chart\")\n",
    "        plt.show()\n",
    "\n",
    "    # Scatter Plot\n",
    "    def scatter_plot(self):\n",
    "        plt.figure(figsize=(8, 5))\n",
    "        plt.scatter(self.categories, self.values, color='purple', alpha=0.8)\n",
    "        plt.title(\"Scatter Plot\")\n",
    "        plt.xlabel(\"Categories\")\n",
    "        plt.ylabel(\"Values\")\n",
    "        plt.grid(True)\n",
    "        plt.show()\n",
    "\n",
    "\n",
    "# Main Execution\n",
    "if __name__ == \"__main__\":\n",
    "    manager = VisualizationManager('data.csv')\n",
    "\n",
    "    print(\"1: Line Plot\\n2: Bar Chart\\n3: Pie Chart\\n4: Scatter Plot\")\n",
    "    choice = input(\"Choose a plot type (1-4): \")\n",
    "\n",
    "    if choice == '1':\n",
    "        manager.line_plot()\n",
    "    elif choice == '2':\n",
    "        manager.bar_chart()\n",
    "    elif choice == '3':\n",
    "        manager.pie_chart()\n",
    "    elif choice == '4':\n",
    "        manager.scatter_plot()\n",
    "    else:\n",
    "        print(\"Invalid choice\")\n"
   ]
  },
  {
   "cell_type": "markdown",
   "id": "e002e70f-6226-4c08-8cfc-72e1def61df8",
   "metadata": {},
   "source": [
    "# "
   ]
  }
 ],
 "metadata": {
  "kernelspec": {
   "display_name": "Python 3 (ipykernel)",
   "language": "python",
   "name": "python3"
  },
  "language_info": {
   "codemirror_mode": {
    "name": "ipython",
    "version": 3
   },
   "file_extension": ".py",
   "mimetype": "text/x-python",
   "name": "python",
   "nbconvert_exporter": "python",
   "pygments_lexer": "ipython3",
   "version": "3.12.4"
  }
 },
 "nbformat": 4,
 "nbformat_minor": 5
}
